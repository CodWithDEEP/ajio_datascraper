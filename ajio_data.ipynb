{
 "cells": [
  {
   "cell_type": "code",
   "execution_count": 5,
   "id": "d4ebdc0a-da18-49bd-a6ae-bac7c44dbe72",
   "metadata": {
    "tags": []
   },
   "outputs": [],
   "source": [
    "import requests\n",
    "import pandas as pd\n",
    "\n",
    "class AjioScraper:\n",
    "    def __init__(self):\n",
    "        self.base_url = \"https://www.ajio.com/api/category/83\"\n",
    "        self.page_size = 45\n",
    "        self.data = []\n",
    "        \n",
    "    def scrape_data(self):\n",
    "        for i in range(1, 21):\n",
    "            params = {\n",
    "                \"currentPage\": str(i),\n",
    "                \"pageSize\": str(self.page_size),\n",
    "                \"format\": \"json\",\n",
    "                \"query\": \":relevance\",\n",
    "                \"sortBy\": \"relevance\",\n",
    "                \"curated\": \"true\",\n",
    "                \"curatedid\": \"clothing-4461-74581\",\n",
    "                \"gridColumns\": \"3\",\n",
    "                \"advfilter\": \"true\",\n",
    "                \"platform\": \"Desktop\",\n",
    "                \"showAdsOnNextPage\": \"true\",\n",
    "                \"is_ads_enable_plp\": \"true\",\n",
    "                \"displayRatings\": \"true\"\n",
    "            }\n",
    "            req = requests.get(self.base_url, params=params)\n",
    "            response = req.json()\n",
    "            items = response['products']\n",
    "\n",
    "            for item in items:\n",
    "                name = item['name']\n",
    "                product_id = item['code']\n",
    "                price = item['price']['value']\n",
    "                link = item.get('url')\n",
    "\n",
    "                self.data.append({'Name': name, 'Product ID': product_id, 'Price': price, 'Link': link})\n",
    "\n",
    "       \n",
    "\n",
    "    def save_to_csv(self):\n",
    "        df = pd.DataFrame(self.data)\n",
    "        df.to_csv('ajio__data.csv', index=False)\n",
    "        \n",
    "    def all(self):\n",
    "        self.scrape_data()\n",
    "        self.save_to_csv()\n",
    "\n",
    "\n",
    "# Usage\n",
    "scraper = AjioScraper()\n",
    "scraper.all()\n",
    "\n"
   ]
  },
  {
   "cell_type": "code",
   "execution_count": null,
   "id": "561e78f0-e306-49c9-b1eb-191854e9beae",
   "metadata": {},
   "outputs": [],
   "source": []
  },
  {
   "cell_type": "code",
   "execution_count": null,
   "id": "f95376e8-1e1c-46d2-a4f3-5c5cd06e5c3a",
   "metadata": {},
   "outputs": [],
   "source": []
  }
 ],
 "metadata": {
  "kernelspec": {
   "display_name": "Python 3 (ipykernel)",
   "language": "python",
   "name": "python3"
  },
  "language_info": {
   "codemirror_mode": {
    "name": "ipython",
    "version": 3
   },
   "file_extension": ".py",
   "mimetype": "text/x-python",
   "name": "python",
   "nbconvert_exporter": "python",
   "pygments_lexer": "ipython3",
   "version": "3.11.2"
  }
 },
 "nbformat": 4,
 "nbformat_minor": 5
}
